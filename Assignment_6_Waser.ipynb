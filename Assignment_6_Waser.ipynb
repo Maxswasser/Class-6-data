{
  "nbformat": 4,
  "nbformat_minor": 0,
  "metadata": {
    "colab": {
      "name": "Assignment 6 Waser.ipynb",
      "provenance": [],
      "authorship_tag": "ABX9TyMdP/zYxEDbAGohHTPgIBV4",
      "include_colab_link": true
    },
    "kernelspec": {
      "name": "python3",
      "display_name": "Python 3"
    },
    "language_info": {
      "name": "python"
    }
  },
  "cells": [
    {
      "cell_type": "markdown",
      "metadata": {
        "id": "view-in-github",
        "colab_type": "text"
      },
      "source": [
        "<a href=\"https://colab.research.google.com/github/Maxswasser/Class-6-data/blob/main/Assignment_6_Waser.ipynb\" target=\"_parent\"><img src=\"https://colab.research.google.com/assets/colab-badge.svg\" alt=\"Open In Colab\"/></a>"
      ]
    },
    {
      "cell_type": "markdown",
      "metadata": {
        "id": "tWlMxaC9S54d"
      },
      "source": [
        "# Assignment 6 Max Wasser\n",
        "\n",
        "\n",
        "\n",
        "\n",
        "\n"
      ]
    },
    {
      "cell_type": "markdown",
      "metadata": {
        "id": "P-QInCXaz2VA"
      },
      "source": [
        "# Install packages, load data, and examine and clean dataset"
      ]
    },
    {
      "cell_type": "markdown",
      "metadata": {
        "id": "FtNIHHWxupbF"
      },
      "source": [
        "Install Packages"
      ]
    },
    {
      "cell_type": "code",
      "metadata": {
        "id": "oUioISkEupIA"
      },
      "source": [
        "\n",
        "from plotnine import *\n",
        "import plotnine\n",
        "import pandas as pd\n",
        "import numpy as np\n",
        "from mizani.formatters import scientific_format, percent_format, currency_format\n",
        "import statsmodels.api as sm\n",
        "from sklearn.linear_model import LogisticRegression, LogisticRegressionCV\n",
        "from sklearn.model_selection import train_test_split\n",
        "from sklearn import metrics\n",
        "import matplotlib.pyplot as plt\n",
        "import seaborn as sns\n",
        "import scipy.stats as stats"
      ],
      "execution_count": 150,
      "outputs": []
    },
    {
      "cell_type": "markdown",
      "metadata": {
        "id": "4TEVm9Kxuw7V"
      },
      "source": [
        "Load data from CSV"
      ]
    },
    {
      "cell_type": "code",
      "metadata": {
        "id": "IbBkHG5ouwcU"
      },
      "source": [
        "df = pd.read_csv(\"https://raw.githubusercontent.com/envirodatascience/ENVS-617-Class-Data/main/CO_climate_change_views.csv\")"
      ],
      "execution_count": 151,
      "outputs": []
    },
    {
      "cell_type": "markdown",
      "metadata": {
        "id": "5t2HUsNCw2QC"
      },
      "source": [
        "Step 1: Orient and Duplicate Removal"
      ]
    },
    {
      "cell_type": "code",
      "metadata": {
        "id": "1xPKQDipS2Zo",
        "colab": {
          "base_uri": "https://localhost:8080/",
          "height": 204
        },
        "outputId": "d45f3582-2648-4934-c110-4790dbdce430"
      },
      "source": [
        "df.head()"
      ],
      "execution_count": 152,
      "outputs": [
        {
          "output_type": "execute_result",
          "data": {
            "text/html": [
              "<div>\n",
              "<style scoped>\n",
              "    .dataframe tbody tr th:only-of-type {\n",
              "        vertical-align: middle;\n",
              "    }\n",
              "\n",
              "    .dataframe tbody tr th {\n",
              "        vertical-align: top;\n",
              "    }\n",
              "\n",
              "    .dataframe thead th {\n",
              "        text-align: right;\n",
              "    }\n",
              "</style>\n",
              "<table border=\"1\" class=\"dataframe\">\n",
              "  <thead>\n",
              "    <tr style=\"text-align: right;\">\n",
              "      <th></th>\n",
              "      <th>OS</th>\n",
              "      <th>Country</th>\n",
              "      <th>City</th>\n",
              "      <th>Provider</th>\n",
              "      <th>Gender</th>\n",
              "      <th>DOB</th>\n",
              "      <th>facebook_use</th>\n",
              "      <th>voter_reg</th>\n",
              "      <th>works_in_oil_gas</th>\n",
              "      <th>climate_change_importance</th>\n",
              "      <th>climate_change_worry</th>\n",
              "      <th>climate_change_personal_harm</th>\n",
              "      <th>climate_change_future_gen_harm</th>\n",
              "      <th>county</th>\n",
              "    </tr>\n",
              "  </thead>\n",
              "  <tbody>\n",
              "    <tr>\n",
              "      <th>0</th>\n",
              "      <td>Android</td>\n",
              "      <td>US</td>\n",
              "      <td>Frisco</td>\n",
              "      <td>Unknown</td>\n",
              "      <td>female</td>\n",
              "      <td>1966</td>\n",
              "      <td>Every day</td>\n",
              "      <td>Not registered to vote</td>\n",
              "      <td>No</td>\n",
              "      <td>Very important</td>\n",
              "      <td>Somewhat worried</td>\n",
              "      <td>Only a little</td>\n",
              "      <td>A great deal</td>\n",
              "      <td>Summit County</td>\n",
              "    </tr>\n",
              "    <tr>\n",
              "      <th>1</th>\n",
              "      <td>iOS</td>\n",
              "      <td>US</td>\n",
              "      <td>Denver</td>\n",
              "      <td>Unknown</td>\n",
              "      <td>male</td>\n",
              "      <td>1961</td>\n",
              "      <td>Every day</td>\n",
              "      <td>Registered to vote, registered as Democratic</td>\n",
              "      <td>No</td>\n",
              "      <td>Very important</td>\n",
              "      <td>Somewhat worried</td>\n",
              "      <td>A moderate amount</td>\n",
              "      <td>A great deal</td>\n",
              "      <td>Boulder County</td>\n",
              "    </tr>\n",
              "    <tr>\n",
              "      <th>2</th>\n",
              "      <td>iOS</td>\n",
              "      <td>US</td>\n",
              "      <td>Denver</td>\n",
              "      <td>Unknown</td>\n",
              "      <td>female</td>\n",
              "      <td>1986</td>\n",
              "      <td>Every day</td>\n",
              "      <td>Not registered to vote</td>\n",
              "      <td>No</td>\n",
              "      <td>Very important</td>\n",
              "      <td>Somewhat worried</td>\n",
              "      <td>A moderate amount</td>\n",
              "      <td>A great deal</td>\n",
              "      <td>Douglas County</td>\n",
              "    </tr>\n",
              "    <tr>\n",
              "      <th>3</th>\n",
              "      <td>Android</td>\n",
              "      <td>US</td>\n",
              "      <td>Denver</td>\n",
              "      <td>T-Mobile</td>\n",
              "      <td>male</td>\n",
              "      <td>1991</td>\n",
              "      <td>Every day</td>\n",
              "      <td>Not registered to vote</td>\n",
              "      <td>Yes, a close friend or family member is employ...</td>\n",
              "      <td>Very important</td>\n",
              "      <td>Not very worried</td>\n",
              "      <td>A moderate amount</td>\n",
              "      <td>A moderate amount</td>\n",
              "      <td>Adams County</td>\n",
              "    </tr>\n",
              "    <tr>\n",
              "      <th>4</th>\n",
              "      <td>Android</td>\n",
              "      <td>US</td>\n",
              "      <td>Denver</td>\n",
              "      <td>Unknown</td>\n",
              "      <td>female</td>\n",
              "      <td>1985</td>\n",
              "      <td>Every day</td>\n",
              "      <td>Registered to vote, registered as Independent,...</td>\n",
              "      <td>No</td>\n",
              "      <td>Very important</td>\n",
              "      <td>Very worried</td>\n",
              "      <td>A moderate amount</td>\n",
              "      <td>A great deal</td>\n",
              "      <td>Denver County</td>\n",
              "    </tr>\n",
              "  </tbody>\n",
              "</table>\n",
              "</div>"
            ],
            "text/plain": [
              "        OS Country  ... climate_change_future_gen_harm          county\n",
              "0  Android      US  ...                   A great deal   Summit County\n",
              "1      iOS      US  ...                   A great deal  Boulder County\n",
              "2      iOS      US  ...                   A great deal  Douglas County\n",
              "3  Android      US  ...              A moderate amount    Adams County\n",
              "4  Android      US  ...                   A great deal   Denver County\n",
              "\n",
              "[5 rows x 14 columns]"
            ]
          },
          "metadata": {},
          "execution_count": 152
        }
      ]
    },
    {
      "cell_type": "code",
      "metadata": {
        "colab": {
          "base_uri": "https://localhost:8080/"
        },
        "id": "bwW-FJIGuobs",
        "outputId": "14638d94-90a7-4b27-beaf-3eeb62f29d71"
      },
      "source": [
        "df.info()"
      ],
      "execution_count": 153,
      "outputs": [
        {
          "output_type": "stream",
          "name": "stdout",
          "text": [
            "<class 'pandas.core.frame.DataFrame'>\n",
            "RangeIndex: 750 entries, 0 to 749\n",
            "Data columns (total 14 columns):\n",
            " #   Column                          Non-Null Count  Dtype \n",
            "---  ------                          --------------  ----- \n",
            " 0   OS                              750 non-null    object\n",
            " 1   Country                         750 non-null    object\n",
            " 2   City                            750 non-null    object\n",
            " 3   Provider                        750 non-null    object\n",
            " 4   Gender                          750 non-null    object\n",
            " 5   DOB                             750 non-null    int64 \n",
            " 6   facebook_use                    750 non-null    object\n",
            " 7   voter_reg                       750 non-null    object\n",
            " 8   works_in_oil_gas                750 non-null    object\n",
            " 9   climate_change_importance       750 non-null    object\n",
            " 10  climate_change_worry            750 non-null    object\n",
            " 11  climate_change_personal_harm    750 non-null    object\n",
            " 12  climate_change_future_gen_harm  750 non-null    object\n",
            " 13  county                          748 non-null    object\n",
            "dtypes: int64(1), object(13)\n",
            "memory usage: 82.2+ KB\n"
          ]
        }
      ]
    },
    {
      "cell_type": "markdown",
      "metadata": {
        "id": "JoC7vDwHxKKG"
      },
      "source": [
        "Looks like there are at least two missing counties. Let's drop duplicates, and Nulls"
      ]
    },
    {
      "cell_type": "code",
      "metadata": {
        "colab": {
          "base_uri": "https://localhost:8080/"
        },
        "id": "MILt8JIVxJ62",
        "outputId": "e8c1ce16-a255-4498-8a2f-a7217feeef18"
      },
      "source": [
        "#value_counts is an useful piece of code! neat\n",
        "df.climate_change_future_gen_harm.value_counts()"
      ],
      "execution_count": 154,
      "outputs": [
        {
          "output_type": "execute_result",
          "data": {
            "text/plain": [
              "A great deal         457\n",
              "A moderate amount    161\n",
              "Only a little         50\n",
              "Not at all            43\n",
              "Don’t know            39\n",
              "Name: climate_change_future_gen_harm, dtype: int64"
            ]
          },
          "metadata": {},
          "execution_count": 154
        }
      ]
    },
    {
      "cell_type": "code",
      "metadata": {
        "colab": {
          "base_uri": "https://localhost:8080/",
          "height": 328
        },
        "id": "E3dfahrYxjpU",
        "outputId": "5821ac2d-bd0b-4f95-973f-df6564738a05"
      },
      "source": [
        "df[df.duplicated(keep=False) == True]\n",
        "#not too many duplicates, let's drop them"
      ],
      "execution_count": 155,
      "outputs": [
        {
          "output_type": "execute_result",
          "data": {
            "text/html": [
              "<div>\n",
              "<style scoped>\n",
              "    .dataframe tbody tr th:only-of-type {\n",
              "        vertical-align: middle;\n",
              "    }\n",
              "\n",
              "    .dataframe tbody tr th {\n",
              "        vertical-align: top;\n",
              "    }\n",
              "\n",
              "    .dataframe thead th {\n",
              "        text-align: right;\n",
              "    }\n",
              "</style>\n",
              "<table border=\"1\" class=\"dataframe\">\n",
              "  <thead>\n",
              "    <tr style=\"text-align: right;\">\n",
              "      <th></th>\n",
              "      <th>OS</th>\n",
              "      <th>Country</th>\n",
              "      <th>City</th>\n",
              "      <th>Provider</th>\n",
              "      <th>Gender</th>\n",
              "      <th>DOB</th>\n",
              "      <th>facebook_use</th>\n",
              "      <th>voter_reg</th>\n",
              "      <th>works_in_oil_gas</th>\n",
              "      <th>climate_change_importance</th>\n",
              "      <th>climate_change_worry</th>\n",
              "      <th>climate_change_personal_harm</th>\n",
              "      <th>climate_change_future_gen_harm</th>\n",
              "      <th>county</th>\n",
              "    </tr>\n",
              "  </thead>\n",
              "  <tbody>\n",
              "    <tr>\n",
              "      <th>14</th>\n",
              "      <td>Web</td>\n",
              "      <td>US</td>\n",
              "      <td>Colorado Springs</td>\n",
              "      <td>Unknown</td>\n",
              "      <td>female</td>\n",
              "      <td>1958</td>\n",
              "      <td>I never use Facebook or Instagram</td>\n",
              "      <td>Registered to vote, registered as Independent,...</td>\n",
              "      <td>No</td>\n",
              "      <td>Very important</td>\n",
              "      <td>Very worried</td>\n",
              "      <td>A great deal</td>\n",
              "      <td>A great deal</td>\n",
              "      <td>El Paso County</td>\n",
              "    </tr>\n",
              "    <tr>\n",
              "      <th>89</th>\n",
              "      <td>Web</td>\n",
              "      <td>US</td>\n",
              "      <td>Colorado Springs</td>\n",
              "      <td>Unknown</td>\n",
              "      <td>female</td>\n",
              "      <td>1958</td>\n",
              "      <td>I never use Facebook or Instagram</td>\n",
              "      <td>Registered to vote, registered as Independent,...</td>\n",
              "      <td>No</td>\n",
              "      <td>Very important</td>\n",
              "      <td>Very worried</td>\n",
              "      <td>A great deal</td>\n",
              "      <td>A great deal</td>\n",
              "      <td>El Paso County</td>\n",
              "    </tr>\n",
              "    <tr>\n",
              "      <th>111</th>\n",
              "      <td>Android</td>\n",
              "      <td>US</td>\n",
              "      <td>Denver</td>\n",
              "      <td>AT&amp;T</td>\n",
              "      <td>female</td>\n",
              "      <td>1974</td>\n",
              "      <td>Every day</td>\n",
              "      <td>Registered to vote, registered as Independent,...</td>\n",
              "      <td>No</td>\n",
              "      <td>Somewhat important</td>\n",
              "      <td>Somewhat worried</td>\n",
              "      <td>A moderate amount</td>\n",
              "      <td>A moderate amount</td>\n",
              "      <td>Jefferson County</td>\n",
              "    </tr>\n",
              "    <tr>\n",
              "      <th>186</th>\n",
              "      <td>Web</td>\n",
              "      <td>US</td>\n",
              "      <td>Denver</td>\n",
              "      <td>Unknown</td>\n",
              "      <td>male</td>\n",
              "      <td>1995</td>\n",
              "      <td>Once a week</td>\n",
              "      <td>Registered to vote, registered as Democratic</td>\n",
              "      <td>Yes, I am employed in the oil and gas industry</td>\n",
              "      <td>Extremely important</td>\n",
              "      <td>Very worried</td>\n",
              "      <td>A great deal</td>\n",
              "      <td>A great deal</td>\n",
              "      <td>Denver County</td>\n",
              "    </tr>\n",
              "    <tr>\n",
              "      <th>215</th>\n",
              "      <td>Android</td>\n",
              "      <td>US</td>\n",
              "      <td>Pueblo</td>\n",
              "      <td>Unknown</td>\n",
              "      <td>female</td>\n",
              "      <td>1980</td>\n",
              "      <td>Every day</td>\n",
              "      <td>Not registered to vote</td>\n",
              "      <td>No</td>\n",
              "      <td>Somewhat important</td>\n",
              "      <td>Somewhat worried</td>\n",
              "      <td>A moderate amount</td>\n",
              "      <td>A great deal</td>\n",
              "      <td>Pueblo County</td>\n",
              "    </tr>\n",
              "    <tr>\n",
              "      <th>216</th>\n",
              "      <td>Android</td>\n",
              "      <td>US</td>\n",
              "      <td>Pueblo</td>\n",
              "      <td>Unknown</td>\n",
              "      <td>female</td>\n",
              "      <td>1980</td>\n",
              "      <td>Every day</td>\n",
              "      <td>Not registered to vote</td>\n",
              "      <td>No</td>\n",
              "      <td>Somewhat important</td>\n",
              "      <td>Somewhat worried</td>\n",
              "      <td>A moderate amount</td>\n",
              "      <td>A great deal</td>\n",
              "      <td>Pueblo County</td>\n",
              "    </tr>\n",
              "    <tr>\n",
              "      <th>290</th>\n",
              "      <td>Web</td>\n",
              "      <td>US</td>\n",
              "      <td>Denver</td>\n",
              "      <td>Unknown</td>\n",
              "      <td>male</td>\n",
              "      <td>1995</td>\n",
              "      <td>Once a week</td>\n",
              "      <td>Registered to vote, registered as Democratic</td>\n",
              "      <td>Yes, I am employed in the oil and gas industry</td>\n",
              "      <td>Extremely important</td>\n",
              "      <td>Very worried</td>\n",
              "      <td>A great deal</td>\n",
              "      <td>A great deal</td>\n",
              "      <td>Denver County</td>\n",
              "    </tr>\n",
              "    <tr>\n",
              "      <th>330</th>\n",
              "      <td>Android</td>\n",
              "      <td>US</td>\n",
              "      <td>Denver</td>\n",
              "      <td>AT&amp;T</td>\n",
              "      <td>female</td>\n",
              "      <td>1974</td>\n",
              "      <td>Every day</td>\n",
              "      <td>Registered to vote, registered as Independent,...</td>\n",
              "      <td>No</td>\n",
              "      <td>Somewhat important</td>\n",
              "      <td>Somewhat worried</td>\n",
              "      <td>A moderate amount</td>\n",
              "      <td>A moderate amount</td>\n",
              "      <td>Jefferson County</td>\n",
              "    </tr>\n",
              "    <tr>\n",
              "      <th>575</th>\n",
              "      <td>Android</td>\n",
              "      <td>US</td>\n",
              "      <td>Denver</td>\n",
              "      <td>AT&amp;T</td>\n",
              "      <td>female</td>\n",
              "      <td>1974</td>\n",
              "      <td>Every day</td>\n",
              "      <td>Registered to vote, registered as Independent,...</td>\n",
              "      <td>No</td>\n",
              "      <td>Somewhat important</td>\n",
              "      <td>Somewhat worried</td>\n",
              "      <td>A moderate amount</td>\n",
              "      <td>A moderate amount</td>\n",
              "      <td>Jefferson County</td>\n",
              "    </tr>\n",
              "  </tbody>\n",
              "</table>\n",
              "</div>"
            ],
            "text/plain": [
              "          OS Country  ... climate_change_future_gen_harm            county\n",
              "14       Web      US  ...                   A great deal    El Paso County\n",
              "89       Web      US  ...                   A great deal    El Paso County\n",
              "111  Android      US  ...              A moderate amount  Jefferson County\n",
              "186      Web      US  ...                   A great deal     Denver County\n",
              "215  Android      US  ...                   A great deal     Pueblo County\n",
              "216  Android      US  ...                   A great deal     Pueblo County\n",
              "290      Web      US  ...                   A great deal     Denver County\n",
              "330  Android      US  ...              A moderate amount  Jefferson County\n",
              "575  Android      US  ...              A moderate amount  Jefferson County\n",
              "\n",
              "[9 rows x 14 columns]"
            ]
          },
          "metadata": {},
          "execution_count": 155
        }
      ]
    },
    {
      "cell_type": "code",
      "metadata": {
        "colab": {
          "base_uri": "https://localhost:8080/"
        },
        "id": "huYiF71Fyrzs",
        "outputId": "4dac7ffc-f4cc-4c95-869c-ba9c75110dec"
      },
      "source": [
        "df = df[df.duplicated() == False]\n",
        "df.info()"
      ],
      "execution_count": 156,
      "outputs": [
        {
          "output_type": "stream",
          "name": "stdout",
          "text": [
            "<class 'pandas.core.frame.DataFrame'>\n",
            "Int64Index: 745 entries, 0 to 749\n",
            "Data columns (total 14 columns):\n",
            " #   Column                          Non-Null Count  Dtype \n",
            "---  ------                          --------------  ----- \n",
            " 0   OS                              745 non-null    object\n",
            " 1   Country                         745 non-null    object\n",
            " 2   City                            745 non-null    object\n",
            " 3   Provider                        745 non-null    object\n",
            " 4   Gender                          745 non-null    object\n",
            " 5   DOB                             745 non-null    int64 \n",
            " 6   facebook_use                    745 non-null    object\n",
            " 7   voter_reg                       745 non-null    object\n",
            " 8   works_in_oil_gas                745 non-null    object\n",
            " 9   climate_change_importance       745 non-null    object\n",
            " 10  climate_change_worry            745 non-null    object\n",
            " 11  climate_change_personal_harm    745 non-null    object\n",
            " 12  climate_change_future_gen_harm  745 non-null    object\n",
            " 13  county                          743 non-null    object\n",
            "dtypes: int64(1), object(13)\n",
            "memory usage: 87.3+ KB\n"
          ]
        }
      ]
    },
    {
      "cell_type": "markdown",
      "metadata": {
        "id": "gT85tj-wy0g1"
      },
      "source": [
        "And now to deal with our Null County Objects"
      ]
    },
    {
      "cell_type": "code",
      "metadata": {
        "colab": {
          "base_uri": "https://localhost:8080/"
        },
        "id": "Wl2AU1SLyzpR",
        "outputId": "f1c3346b-b8bf-4da4-ba79-67f2003576fe"
      },
      "source": [
        "df.dropna(inplace=True)\n",
        "df.info()\n",
        "#done, we now have 743 rows"
      ],
      "execution_count": 157,
      "outputs": [
        {
          "output_type": "stream",
          "name": "stdout",
          "text": [
            "<class 'pandas.core.frame.DataFrame'>\n",
            "Int64Index: 743 entries, 0 to 749\n",
            "Data columns (total 14 columns):\n",
            " #   Column                          Non-Null Count  Dtype \n",
            "---  ------                          --------------  ----- \n",
            " 0   OS                              743 non-null    object\n",
            " 1   Country                         743 non-null    object\n",
            " 2   City                            743 non-null    object\n",
            " 3   Provider                        743 non-null    object\n",
            " 4   Gender                          743 non-null    object\n",
            " 5   DOB                             743 non-null    int64 \n",
            " 6   facebook_use                    743 non-null    object\n",
            " 7   voter_reg                       743 non-null    object\n",
            " 8   works_in_oil_gas                743 non-null    object\n",
            " 9   climate_change_importance       743 non-null    object\n",
            " 10  climate_change_worry            743 non-null    object\n",
            " 11  climate_change_personal_harm    743 non-null    object\n",
            " 12  climate_change_future_gen_harm  743 non-null    object\n",
            " 13  county                          743 non-null    object\n",
            "dtypes: int64(1), object(13)\n",
            "memory usage: 87.1+ KB\n"
          ]
        }
      ]
    },
    {
      "cell_type": "markdown",
      "metadata": {
        "id": "r7xLugLezq9E"
      },
      "source": [
        "# Make dependent variable binary \n",
        "Creaty binary column for climate change personal harm - that seems like the metric that will best describe how people will act"
      ]
    },
    {
      "cell_type": "code",
      "metadata": {
        "colab": {
          "base_uri": "https://localhost:8080/"
        },
        "id": "qHRfIIy74pT8",
        "outputId": "96ee1f81-1a08-440e-e660-2c2454e7bb66"
      },
      "source": [
        "#first, a closer look\n",
        "df.climate_change_personal_harm.value_counts()"
      ],
      "execution_count": 158,
      "outputs": [
        {
          "output_type": "execute_result",
          "data": {
            "text/plain": [
              "A moderate amount    280\n",
              "A great deal         202\n",
              "Only a little        146\n",
              "Not at all            74\n",
              "Don’t know            41\n",
              "Name: climate_change_personal_harm, dtype: int64"
            ]
          },
          "metadata": {},
          "execution_count": 158
        }
      ]
    },
    {
      "cell_type": "code",
      "metadata": {
        "colab": {
          "base_uri": "https://localhost:8080/"
        },
        "id": "3np7JzRU42n1",
        "outputId": "eb238066-e70b-469f-8b3f-883caf49af49"
      },
      "source": [
        "#this is a very different response than harm to future generations, but I'm sure they are still correlated\n",
        "df.climate_change_future_gen_harm.value_counts()"
      ],
      "execution_count": 159,
      "outputs": [
        {
          "output_type": "execute_result",
          "data": {
            "text/plain": [
              "A great deal         453\n",
              "A moderate amount    159\n",
              "Only a little         49\n",
              "Not at all            43\n",
              "Don’t know            39\n",
              "Name: climate_change_future_gen_harm, dtype: int64"
            ]
          },
          "metadata": {},
          "execution_count": 159
        }
      ]
    },
    {
      "cell_type": "code",
      "metadata": {
        "colab": {
          "base_uri": "https://localhost:8080/",
          "height": 204
        },
        "id": "c0OjMD4CzqXD",
        "outputId": "a0c34ab3-3948-43c0-8c4b-f282cf6842c1"
      },
      "source": [
        "#breaking it up into two categories - moderate to severe personal harm, and only a little/don't know/no personal harm\n",
        "df['personal_harm'] = np.where(df['climate_change_personal_harm'] == 'A great deal', 1, \\\n",
        "np.where(df['climate_change_personal_harm'] == 'A moderate amount', 1,0))\n",
        "\n",
        "\n",
        "\n",
        "\n",
        "df[['climate_change_personal_harm','personal_harm']].tail()\n",
        "\n"
      ],
      "execution_count": 160,
      "outputs": [
        {
          "output_type": "execute_result",
          "data": {
            "text/html": [
              "<div>\n",
              "<style scoped>\n",
              "    .dataframe tbody tr th:only-of-type {\n",
              "        vertical-align: middle;\n",
              "    }\n",
              "\n",
              "    .dataframe tbody tr th {\n",
              "        vertical-align: top;\n",
              "    }\n",
              "\n",
              "    .dataframe thead th {\n",
              "        text-align: right;\n",
              "    }\n",
              "</style>\n",
              "<table border=\"1\" class=\"dataframe\">\n",
              "  <thead>\n",
              "    <tr style=\"text-align: right;\">\n",
              "      <th></th>\n",
              "      <th>climate_change_personal_harm</th>\n",
              "      <th>personal_harm</th>\n",
              "    </tr>\n",
              "  </thead>\n",
              "  <tbody>\n",
              "    <tr>\n",
              "      <th>745</th>\n",
              "      <td>A great deal</td>\n",
              "      <td>1</td>\n",
              "    </tr>\n",
              "    <tr>\n",
              "      <th>746</th>\n",
              "      <td>Only a little</td>\n",
              "      <td>0</td>\n",
              "    </tr>\n",
              "    <tr>\n",
              "      <th>747</th>\n",
              "      <td>A great deal</td>\n",
              "      <td>1</td>\n",
              "    </tr>\n",
              "    <tr>\n",
              "      <th>748</th>\n",
              "      <td>Only a little</td>\n",
              "      <td>0</td>\n",
              "    </tr>\n",
              "    <tr>\n",
              "      <th>749</th>\n",
              "      <td>Don’t know</td>\n",
              "      <td>0</td>\n",
              "    </tr>\n",
              "  </tbody>\n",
              "</table>\n",
              "</div>"
            ],
            "text/plain": [
              "    climate_change_personal_harm  personal_harm\n",
              "745                 A great deal              1\n",
              "746                Only a little              0\n",
              "747                 A great deal              1\n",
              "748                Only a little              0\n",
              "749                   Don’t know              0"
            ]
          },
          "metadata": {},
          "execution_count": 160
        }
      ]
    },
    {
      "cell_type": "code",
      "metadata": {
        "colab": {
          "base_uri": "https://localhost:8080/",
          "height": 235
        },
        "id": "lXY2Vy4__xWz",
        "outputId": "9adc224d-55ac-4b5c-c79d-c652fad37902"
      },
      "source": [
        "#double check\n",
        "df.groupby('climate_change_personal_harm').agg(worry_check = ('personal_harm','mean'))\n",
        "#excellent"
      ],
      "execution_count": 161,
      "outputs": [
        {
          "output_type": "execute_result",
          "data": {
            "text/html": [
              "<div>\n",
              "<style scoped>\n",
              "    .dataframe tbody tr th:only-of-type {\n",
              "        vertical-align: middle;\n",
              "    }\n",
              "\n",
              "    .dataframe tbody tr th {\n",
              "        vertical-align: top;\n",
              "    }\n",
              "\n",
              "    .dataframe thead th {\n",
              "        text-align: right;\n",
              "    }\n",
              "</style>\n",
              "<table border=\"1\" class=\"dataframe\">\n",
              "  <thead>\n",
              "    <tr style=\"text-align: right;\">\n",
              "      <th></th>\n",
              "      <th>worry_check</th>\n",
              "    </tr>\n",
              "    <tr>\n",
              "      <th>climate_change_personal_harm</th>\n",
              "      <th></th>\n",
              "    </tr>\n",
              "  </thead>\n",
              "  <tbody>\n",
              "    <tr>\n",
              "      <th>A great deal</th>\n",
              "      <td>1</td>\n",
              "    </tr>\n",
              "    <tr>\n",
              "      <th>A moderate amount</th>\n",
              "      <td>1</td>\n",
              "    </tr>\n",
              "    <tr>\n",
              "      <th>Don’t know</th>\n",
              "      <td>0</td>\n",
              "    </tr>\n",
              "    <tr>\n",
              "      <th>Not at all</th>\n",
              "      <td>0</td>\n",
              "    </tr>\n",
              "    <tr>\n",
              "      <th>Only a little</th>\n",
              "      <td>0</td>\n",
              "    </tr>\n",
              "  </tbody>\n",
              "</table>\n",
              "</div>"
            ],
            "text/plain": [
              "                              worry_check\n",
              "climate_change_personal_harm             \n",
              "A great deal                            1\n",
              "A moderate amount                       1\n",
              "Don’t know                              0\n",
              "Not at all                              0\n",
              "Only a little                           0"
            ]
          },
          "metadata": {},
          "execution_count": 161
        }
      ]
    },
    {
      "cell_type": "markdown",
      "metadata": {
        "id": "sX80sF2G9kub"
      },
      "source": [
        "Beliefs that might be correlated with views on climate change personal harm: oi and gas industry affiliation, voter registration type, age class, gender, county, city, facebook use"
      ]
    },
    {
      "cell_type": "code",
      "metadata": {
        "colab": {
          "base_uri": "https://localhost:8080/"
        },
        "id": "kbMfex58_-Iw",
        "outputId": "7d3b8c7c-3e79-4f38-b7bf-cad5eab22443"
      },
      "source": [
        "#binarize (that's not a word, but i like it) the other correlated variables - let's start with voter registration.\n",
        "df.voter_reg.value_counts()"
      ],
      "execution_count": 162,
      "outputs": [
        {
          "output_type": "execute_result",
          "data": {
            "text/plain": [
              "Registered to vote, registered as Democratic                                             244\n",
              "Registered to vote, registered as Independent, third party, unknown, or unaffiliated     216\n",
              "Not registered to vote                                                                   134\n",
              "Registered to vote, registered as Republican                                             118\n",
              "I don’t know                                                                              31\n",
              "Name: voter_reg, dtype: int64"
            ]
          },
          "metadata": {},
          "execution_count": 162
        }
      ]
    },
    {
      "cell_type": "code",
      "metadata": {
        "colab": {
          "base_uri": "https://localhost:8080/",
          "height": 235
        },
        "id": "t7Tdo-uc98JU",
        "outputId": "2441fd65-34c5-40c1-9c61-e5460adf3c66"
      },
      "source": [
        "#i predict that democrats will be more likely to have stronger views on climate change than independents, republicans, and non-voters. Climate has been shown to be an important issue for democratic voters. \n",
        "#- I'm assigning democrats \"1\", everyone else \"0\". We could also do a score, but this seems easier.\n",
        "df['dem_yes'] = np.where(df['voter_reg'] == 'Registered to vote, registered as Democratic', 1, 0)\n",
        "\n",
        "#and a little check\n",
        "df.groupby('voter_reg').agg(worry_check = ('dem_yes','mean'))\n"
      ],
      "execution_count": 163,
      "outputs": [
        {
          "output_type": "execute_result",
          "data": {
            "text/html": [
              "<div>\n",
              "<style scoped>\n",
              "    .dataframe tbody tr th:only-of-type {\n",
              "        vertical-align: middle;\n",
              "    }\n",
              "\n",
              "    .dataframe tbody tr th {\n",
              "        vertical-align: top;\n",
              "    }\n",
              "\n",
              "    .dataframe thead th {\n",
              "        text-align: right;\n",
              "    }\n",
              "</style>\n",
              "<table border=\"1\" class=\"dataframe\">\n",
              "  <thead>\n",
              "    <tr style=\"text-align: right;\">\n",
              "      <th></th>\n",
              "      <th>worry_check</th>\n",
              "    </tr>\n",
              "    <tr>\n",
              "      <th>voter_reg</th>\n",
              "      <th></th>\n",
              "    </tr>\n",
              "  </thead>\n",
              "  <tbody>\n",
              "    <tr>\n",
              "      <th>I don’t know</th>\n",
              "      <td>0</td>\n",
              "    </tr>\n",
              "    <tr>\n",
              "      <th>Not registered to vote</th>\n",
              "      <td>0</td>\n",
              "    </tr>\n",
              "    <tr>\n",
              "      <th>Registered to vote, registered as Democratic</th>\n",
              "      <td>1</td>\n",
              "    </tr>\n",
              "    <tr>\n",
              "      <th>Registered to vote, registered as Independent, third party, unknown, or unaffiliated</th>\n",
              "      <td>0</td>\n",
              "    </tr>\n",
              "    <tr>\n",
              "      <th>Registered to vote, registered as Republican</th>\n",
              "      <td>0</td>\n",
              "    </tr>\n",
              "  </tbody>\n",
              "</table>\n",
              "</div>"
            ],
            "text/plain": [
              "                                                    worry_check\n",
              "voter_reg                                                      \n",
              "I don’t know                                                  0\n",
              "Not registered to vote                                        0\n",
              "Registered to vote, registered as Democratic                  1\n",
              "Registered to vote, registered as Independent, ...            0\n",
              "Registered to vote, registered as Republican                  0"
            ]
          },
          "metadata": {},
          "execution_count": 163
        }
      ]
    },
    {
      "cell_type": "code",
      "metadata": {
        "colab": {
          "base_uri": "https://localhost:8080/"
        },
        "id": "4rApLagRBfds",
        "outputId": "3036413f-b5c2-43a9-9be9-392cf6d032c0"
      },
      "source": [
        "df.works_in_oil_gas.value_counts()"
      ],
      "execution_count": 164,
      "outputs": [
        {
          "output_type": "execute_result",
          "data": {
            "text/plain": [
              "No                                                                                               542\n",
              "Yes, a close friend or family member is employed in the oil and gas industry                     100\n",
              "Not sure                                                                                          40\n",
              "Yes, I am employed in the oil and gas industry                                                    37\n",
              "Yes, both myself and close friends or family members are employed in the oil and gas industry     24\n",
              "Name: works_in_oil_gas, dtype: int64"
            ]
          },
          "metadata": {},
          "execution_count": 164
        }
      ]
    },
    {
      "cell_type": "code",
      "metadata": {
        "colab": {
          "base_uri": "https://localhost:8080/",
          "height": 235
        },
        "id": "ljV21gfc9kJS",
        "outputId": "b7497478-f219-4728-ecc2-a8532d50ba23"
      },
      "source": [
        "\n",
        "\n",
        "#i predict that having an oil and gas affiliation makes you less sympathetic to climate change. Oil and gas = 1, no affiliation = 0.\n",
        "#we'll be looking for a negative correlation between oil and gas affiliation and climate sympathy. If you or a loved one works in Oil and Gas, perhaps you will perceive the acknowledgement of climate change as threatening to your livelihood.\n",
        "df['oil_gas_yes'] = np.where(df['works_in_oil_gas'] == 'Yes, I am employed in the oil and gas industry', 1, \\\n",
        "       np.where(df[\"works_in_oil_gas\"] == \"Yes, a close friend or family member is employed in the oil and gas industry\", 1, \\\n",
        "        np.where(df[\"works_in_oil_gas\"] == \"Yes, both myself and close friends or family members are employed in the oil and gas industry\", 1, 0)))\n",
        "\n",
        "#and a little check\n",
        "df.groupby('works_in_oil_gas').agg(worry_check = ('oil_gas_yes','mean'))\n"
      ],
      "execution_count": 165,
      "outputs": [
        {
          "output_type": "execute_result",
          "data": {
            "text/html": [
              "<div>\n",
              "<style scoped>\n",
              "    .dataframe tbody tr th:only-of-type {\n",
              "        vertical-align: middle;\n",
              "    }\n",
              "\n",
              "    .dataframe tbody tr th {\n",
              "        vertical-align: top;\n",
              "    }\n",
              "\n",
              "    .dataframe thead th {\n",
              "        text-align: right;\n",
              "    }\n",
              "</style>\n",
              "<table border=\"1\" class=\"dataframe\">\n",
              "  <thead>\n",
              "    <tr style=\"text-align: right;\">\n",
              "      <th></th>\n",
              "      <th>worry_check</th>\n",
              "    </tr>\n",
              "    <tr>\n",
              "      <th>works_in_oil_gas</th>\n",
              "      <th></th>\n",
              "    </tr>\n",
              "  </thead>\n",
              "  <tbody>\n",
              "    <tr>\n",
              "      <th>No</th>\n",
              "      <td>0</td>\n",
              "    </tr>\n",
              "    <tr>\n",
              "      <th>Not sure</th>\n",
              "      <td>0</td>\n",
              "    </tr>\n",
              "    <tr>\n",
              "      <th>Yes, I am employed in the oil and gas industry</th>\n",
              "      <td>1</td>\n",
              "    </tr>\n",
              "    <tr>\n",
              "      <th>Yes, a close friend or family member is employed in the oil and gas industry</th>\n",
              "      <td>1</td>\n",
              "    </tr>\n",
              "    <tr>\n",
              "      <th>Yes, both myself and close friends or family members are employed in the oil and gas industry</th>\n",
              "      <td>1</td>\n",
              "    </tr>\n",
              "  </tbody>\n",
              "</table>\n",
              "</div>"
            ],
            "text/plain": [
              "                                                    worry_check\n",
              "works_in_oil_gas                                               \n",
              "No                                                            0\n",
              "Not sure                                                      0\n",
              "Yes, I am employed in the oil and gas industry                1\n",
              "Yes, a close friend or family member is employe...            1\n",
              "Yes, both myself and close friends or family me...            1"
            ]
          },
          "metadata": {},
          "execution_count": 165
        }
      ]
    },
    {
      "cell_type": "code",
      "metadata": {
        "colab": {
          "base_uri": "https://localhost:8080/"
        },
        "id": "Xwzc3JliBCKV",
        "outputId": "e8bdc2f9-2f9a-4f2d-a0f1-0c1169351c01"
      },
      "source": [
        "#next I predict that age is correlated with climate sympathy\n",
        "#older folks tend to be less climate worried than younger folks - especially if we're examining the metric of how climate change is likely to impact them.\n",
        "#age is put in as the integer DOB, so larger numbers = lower age. Let's make a new column: \"age\"\n",
        "df[\"age\"] = (2021 - df[\"DOB\"])\n",
        "df[\"age\"]"
      ],
      "execution_count": 166,
      "outputs": [
        {
          "output_type": "execute_result",
          "data": {
            "text/plain": [
              "0      55\n",
              "1      60\n",
              "2      35\n",
              "3      30\n",
              "4      36\n",
              "       ..\n",
              "745    40\n",
              "746    42\n",
              "747    22\n",
              "748    20\n",
              "749    35\n",
              "Name: age, Length: 743, dtype: int64"
            ]
          },
          "metadata": {},
          "execution_count": 166
        }
      ]
    },
    {
      "cell_type": "code",
      "metadata": {
        "colab": {
          "base_uri": "https://localhost:8080/"
        },
        "id": "CS5R737Y0Mf4",
        "outputId": "0fbff096-38a6-4a57-84b8-36aa8adfe965"
      },
      "source": [
        "df.age.describe()"
      ],
      "execution_count": 167,
      "outputs": [
        {
          "output_type": "execute_result",
          "data": {
            "text/plain": [
              "count    743.000000\n",
              "mean      41.142665\n",
              "std       13.922430\n",
              "min       18.000000\n",
              "25%       31.000000\n",
              "50%       39.000000\n",
              "75%       50.000000\n",
              "max       88.000000\n",
              "Name: age, dtype: float64"
            ]
          },
          "metadata": {},
          "execution_count": 167
        }
      ]
    },
    {
      "cell_type": "code",
      "metadata": {
        "colab": {
          "base_uri": "https://localhost:8080/",
          "height": 282
        },
        "id": "8zebRqUCv7zo",
        "outputId": "95980d78-96de-438c-e983-e1fff7148898"
      },
      "source": [
        "df.age.hist()"
      ],
      "execution_count": 168,
      "outputs": [
        {
          "output_type": "execute_result",
          "data": {
            "text/plain": [
              "<matplotlib.axes._subplots.AxesSubplot at 0x7f627de71bd0>"
            ]
          },
          "metadata": {},
          "execution_count": 168
        },
        {
          "output_type": "display_data",
          "data": {
            "image/png": "[encoded data removed]",
            "text/plain": [
              "<Figure size 432x288 with 1 Axes>"
            ]
          },
          "metadata": {
            "needs_background": "light"
          }
        }
      ]
    },
    {
      "cell_type": "code",
      "metadata": {
        "id": "VBbMRceg0O0z"
      },
      "source": [
        "#age buckets - better for graphing I suppose\n",
        "df[\"age_buckets\"] = pd.cut(df.age, \n",
        "   bins=[18, 25, 35, 45, 55, 65, 75, 85, 95],\n",
        "   labels=[\"18-25\", \"26-35\", \"36-45\", \"46-55\", \"56-65\", \"66-75\", \"76-85’\", \"86-95\"]\n",
        "  )\n"
      ],
      "execution_count": 169,
      "outputs": []
    },
    {
      "cell_type": "markdown",
      "metadata": {
        "id": "hcLjZxcC26bX"
      },
      "source": [
        "Plotting age buckets vs. percent neutral."
      ]
    },
    {
      "cell_type": "code",
      "metadata": {
        "id": "9dWfUniV3ahJ"
      },
      "source": [
        "#this is really percent *not neutral*\n",
        "df_percent_neutral = df.groupby('age_buckets', as_index=False).agg(personal_harm = ('personal_harm','mean'))"
      ],
      "execution_count": 170,
      "outputs": []
    },
    {
      "cell_type": "code",
      "metadata": {
        "colab": {
          "base_uri": "https://localhost:8080/"
        },
        "id": "gyLMHDqm98bS",
        "outputId": "0190f391-9239-44c2-ae82-2a22adfd07c3"
      },
      "source": [
        "df_percent_neutral.info()\n"
      ],
      "execution_count": 171,
      "outputs": [
        {
          "output_type": "stream",
          "name": "stdout",
          "text": [
            "<class 'pandas.core.frame.DataFrame'>\n",
            "Int64Index: 8 entries, 0 to 7\n",
            "Data columns (total 2 columns):\n",
            " #   Column         Non-Null Count  Dtype   \n",
            "---  ------         --------------  -----   \n",
            " 0   age_buckets    8 non-null      category\n",
            " 1   personal_harm  8 non-null      float64 \n",
            "dtypes: category(1), float64(1)\n",
            "memory usage: 520.0 bytes\n"
          ]
        }
      ]
    },
    {
      "cell_type": "code",
      "metadata": {
        "colab": {
          "base_uri": "https://localhost:8080/",
          "height": 524
        },
        "id": "8ncVIjdI25zj",
        "outputId": "ab1108b2-f9ab-41a4-d0ba-80f6859db01e"
      },
      "source": [
        "(\n",
        "    \n",
        "  ggplot()\n",
        "  + geom_col(df_percent_neutral, aes(x=\"age_buckets\", y = \"personal_harm\"), fill = \"blue\")\n",
        "  + xlab(\"Age\")\n",
        "  + ylab(\"Percent\")\n",
        "  + ggtitle(\"Personally Affected by Climate Change\")\n",
        ")\n",
        "  \n"
      ],
      "execution_count": 172,
      "outputs": [
        {
          "output_type": "stream",
          "name": "stderr",
          "text": [
            "/usr/local/lib/python3.7/dist-packages/plotnine/utils.py:1246: FutureWarning: is_categorical is deprecated and will be removed in a future version.  Use is_categorical_dtype instead\n",
            "  if pdtypes.is_categorical(arr):\n"
          ]
        },
        {
          "output_type": "display_data",
          "data": {
            "image/png": "[encoded data removed]",
            "text/plain": [
              "<Figure size 640x480 with 1 Axes>"
            ]
          },
          "metadata": {}
        },
        {
          "output_type": "execute_result",
          "data": {
            "text/plain": [
              "<ggplot: (8753812215025)>"
            ]
          },
          "metadata": {},
          "execution_count": 172
        }
      ]
    },
    {
      "cell_type": "code",
      "metadata": {
        "colab": {
          "base_uri": "https://localhost:8080/",
          "height": 142
        },
        "id": "XeeTpoXWwJZ9",
        "outputId": "ca65c887-4c19-4202-c660-8f0135e0ead1"
      },
      "source": [
        "df.groupby('personal_harm').agg(dem_yes = ('dem_yes','mean'), avg_age=('age','mean'), oil_yes =(\"oil_gas_yes\", 'mean'))"
      ],
      "execution_count": 173,
      "outputs": [
        {
          "output_type": "execute_result",
          "data": {
            "text/html": [
              "<div>\n",
              "<style scoped>\n",
              "    .dataframe tbody tr th:only-of-type {\n",
              "        vertical-align: middle;\n",
              "    }\n",
              "\n",
              "    .dataframe tbody tr th {\n",
              "        vertical-align: top;\n",
              "    }\n",
              "\n",
              "    .dataframe thead th {\n",
              "        text-align: right;\n",
              "    }\n",
              "</style>\n",
              "<table border=\"1\" class=\"dataframe\">\n",
              "  <thead>\n",
              "    <tr style=\"text-align: right;\">\n",
              "      <th></th>\n",
              "      <th>dem_yes</th>\n",
              "      <th>avg_age</th>\n",
              "      <th>oil_yes</th>\n",
              "    </tr>\n",
              "    <tr>\n",
              "      <th>personal_harm</th>\n",
              "      <th></th>\n",
              "      <th></th>\n",
              "      <th></th>\n",
              "    </tr>\n",
              "  </thead>\n",
              "  <tbody>\n",
              "    <tr>\n",
              "      <th>0</th>\n",
              "      <td>0.199234</td>\n",
              "      <td>43.252874</td>\n",
              "      <td>0.199234</td>\n",
              "    </tr>\n",
              "    <tr>\n",
              "      <th>1</th>\n",
              "      <td>0.398340</td>\n",
              "      <td>40.000000</td>\n",
              "      <td>0.226141</td>\n",
              "    </tr>\n",
              "  </tbody>\n",
              "</table>\n",
              "</div>"
            ],
            "text/plain": [
              "                dem_yes    avg_age   oil_yes\n",
              "personal_harm                               \n",
              "0              0.199234  43.252874  0.199234\n",
              "1              0.398340  40.000000  0.226141"
            ]
          },
          "metadata": {},
          "execution_count": 173
        }
      ]
    },
    {
      "cell_type": "markdown",
      "metadata": {
        "id": "SREZg2Frwnbr"
      },
      "source": [
        "Looks like DEMs are slightly younger, and more worried. Interestingly, it seems that oil and gas affiliations are associated with a higher perceived chance of personal harm - maybe that can be explained by employment concerns - you are likely to be impacted if we stop consuming oil/gas. Let's examine some statitics to see if that is likely to be explained by chance.\n",
        "\n",
        "*   List item\n",
        "*   List item\n",
        "\n"
      ]
    },
    {
      "cell_type": "code",
      "metadata": {
        "colab": {
          "base_uri": "https://localhost:8080/",
          "height": 596
        },
        "id": "QdeYplzDx6Ub",
        "outputId": "d20dfaa3-35d9-4adf-ac8f-efe557cc36f6"
      },
      "source": [
        "#Correlation heatmap \n",
        "df_to_correlate = df[['dem_yes', 'age', 'personal_harm','oil_gas_yes']]\n",
        "\n",
        "plt.figure(figsize=(12,10))\n",
        "cor = df_to_correlate.corr()\n",
        "sns.heatmap(cor, annot=True, cmap=plt.cm.Reds)\n",
        "plt.show()\n"
      ],
      "execution_count": 174,
      "outputs": [
        {
          "output_type": "display_data",
          "data": {
            "image/png": "[encoded data removed]",
            "text/plain": [
              "<Figure size 864x720 with 2 Axes>"
            ]
          },
          "metadata": {
            "needs_background": "light"
          }
        }
      ]
    },
    {
      "cell_type": "markdown",
      "metadata": {
        "id": "5k1UBHIuyXnp"
      },
      "source": [
        "A slightly positive correlation with worry about personal harm and being a registered democrat. Very slight positive correlation between registered dem and oil/gas affiliation - surprising. Very slight positive correlation between oil/gas affiliation and personal harm. Registered democrats, and oil/gas affiliated folks appear to be slightly younger."
      ]
    },
    {
      "cell_type": "markdown",
      "metadata": {
        "id": "yDZ7PgY-zmP9"
      },
      "source": [
        "# Single Variable Statistical Tests\n",
        "\n"
      ]
    },
    {
      "cell_type": "code",
      "metadata": {
        "colab": {
          "base_uri": "https://localhost:8080/"
        },
        "id": "gm8ZAuDLzllC",
        "outputId": "0e420e03-9355-43a6-a432-2132cb295e1f"
      },
      "source": [
        "#t-test\n",
        "\n",
        "stats.ttest_ind(df[\"personal_harm\"][df[\"dem_yes\"] == 1], df[\"personal_harm\"][df[\"dem_yes\"] == 0])\n"
      ],
      "execution_count": 191,
      "outputs": [
        {
          "output_type": "execute_result",
          "data": {
            "text/plain": [
              "Ttest_indResult(statistic=5.625679873729894, pvalue=2.620156578101828e-08)"
            ]
          },
          "metadata": {},
          "execution_count": 191
        }
      ]
    },
    {
      "cell_type": "markdown",
      "metadata": {
        "id": "0cP1jhYpLWQJ"
      },
      "source": [
        "T-test results: p-value is 2.6*10-8 - so statistically signficant"
      ]
    },
    {
      "cell_type": "markdown",
      "metadata": {
        "id": "3Unhuz4ULhRm"
      },
      "source": [
        "# Time to build a model\n",
        "Most correlated variable to least correlated variable with signs: dem_yes (+), age(-), oil_gas(+)"
      ]
    },
    {
      "cell_type": "code",
      "metadata": {
        "colab": {
          "base_uri": "https://localhost:8080/"
        },
        "id": "Qxp3IqDizghM",
        "outputId": "fc2332d9-faff-48f9-e423-e8a2ad0dca08"
      },
      "source": [
        "y = df['personal_harm']\n",
        "x = sm.add_constant(df[['dem_yes','age', \"oil_gas_yes\"]])\n",
        "\n",
        "result=sm.Logit(y,x).fit()\n",
        "print(result.summary2())\n"
      ],
      "execution_count": 194,
      "outputs": [
        {
          "output_type": "stream",
          "name": "stdout",
          "text": [
            "Optimization terminated successfully.\n",
            "         Current function value: 0.620561\n",
            "         Iterations 5\n",
            "                         Results: Logit\n",
            "=================================================================\n",
            "Model:              Logit            Pseudo R-squared: 0.043     \n",
            "Dependent Variable: personal_harm    AIC:              930.1532  \n",
            "Date:               2021-10-24 16:50 BIC:              948.5960  \n",
            "No. Observations:   743              Log-Likelihood:   -461.08   \n",
            "Df Model:           3                LL-Null:          -481.64   \n",
            "Df Residuals:       739              LLR p-value:      6.1570e-09\n",
            "Converged:          1.0000           Scale:            1.0000    \n",
            "No. Iterations:     5.0000                                       \n",
            "------------------------------------------------------------------\n",
            "               Coef.   Std.Err.     z     P>|z|    [0.025   0.975]\n",
            "------------------------------------------------------------------\n",
            "const          1.0318    0.2632   3.9208  0.0001   0.5160   1.5477\n",
            "dem_yes        0.9851    0.1821   5.4097  0.0000   0.6282   1.3419\n",
            "age           -0.0170    0.0057  -2.9835  0.0028  -0.0282  -0.0058\n",
            "oil_gas_yes    0.0016    0.1976   0.0082  0.9935  -0.3858   0.3890\n",
            "=================================================================\n",
            "\n"
          ]
        }
      ]
    },
    {
      "cell_type": "markdown",
      "metadata": {
        "id": "Xw4ImTx5MVwN"
      },
      "source": [
        "Model fit is pretty weak (Pseudo R-squared: 0.043). Oil/Gas industry affiliation surprisingly did not have any explanatory power in this model; however, age and democratic voter registration were statistically significant predictors of perceived climate change harm to self. Age has a fairly weak and negative effect on perceived climate change harm to self (coefficient = -0.0170), while democratic voter registration had the strongest coefficient at .9851.     "
      ]
    },
    {
      "cell_type": "markdown",
      "metadata": {
        "id": "gVNXSyGYOWT1"
      },
      "source": [
        "Because I'm surprised by the weak correlation between oil/gas affiliation and perceived harm to self from climate change, it might be worth looking at. My guess is that it is canceled by two opposing effects that are not testable with this dataset: those who feel that climate-change will reduce job security, thus increasing perceived personal harm. Second, that oil/gas affiliation may be associated with denial of the risks of climate change; if climate change isn't real, how could it harm me?\n"
      ]
    },
    {
      "cell_type": "code",
      "metadata": {
        "colab": {
          "base_uri": "https://localhost:8080/",
          "height": 235
        },
        "id": "XyYN8qM5MLD-",
        "outputId": "ffa088e1-54ad-4a8d-f850-610ed8823b16"
      },
      "source": [
        "#Let's look at future gen harm\n",
        "\n",
        "df['future_harm'] = np.where(df['climate_change_future_gen_harm'] == 'A great deal', 1, \\\n",
        "np.where(df['climate_change_future_gen_harm'] == 'A moderate amount', 1,0))\n",
        "\n",
        "\n",
        "#and a little check\n",
        "df.groupby('climate_change_future_gen_harm').agg(worry_check = ('future_harm','mean'))\n",
        "#looks good\n"
      ],
      "execution_count": 207,
      "outputs": [
        {
          "output_type": "execute_result",
          "data": {
            "text/html": [
              "<div>\n",
              "<style scoped>\n",
              "    .dataframe tbody tr th:only-of-type {\n",
              "        vertical-align: middle;\n",
              "    }\n",
              "\n",
              "    .dataframe tbody tr th {\n",
              "        vertical-align: top;\n",
              "    }\n",
              "\n",
              "    .dataframe thead th {\n",
              "        text-align: right;\n",
              "    }\n",
              "</style>\n",
              "<table border=\"1\" class=\"dataframe\">\n",
              "  <thead>\n",
              "    <tr style=\"text-align: right;\">\n",
              "      <th></th>\n",
              "      <th>worry_check</th>\n",
              "    </tr>\n",
              "    <tr>\n",
              "      <th>climate_change_future_gen_harm</th>\n",
              "      <th></th>\n",
              "    </tr>\n",
              "  </thead>\n",
              "  <tbody>\n",
              "    <tr>\n",
              "      <th>A great deal</th>\n",
              "      <td>1</td>\n",
              "    </tr>\n",
              "    <tr>\n",
              "      <th>A moderate amount</th>\n",
              "      <td>1</td>\n",
              "    </tr>\n",
              "    <tr>\n",
              "      <th>Don’t know</th>\n",
              "      <td>0</td>\n",
              "    </tr>\n",
              "    <tr>\n",
              "      <th>Not at all</th>\n",
              "      <td>0</td>\n",
              "    </tr>\n",
              "    <tr>\n",
              "      <th>Only a little</th>\n",
              "      <td>0</td>\n",
              "    </tr>\n",
              "  </tbody>\n",
              "</table>\n",
              "</div>"
            ],
            "text/plain": [
              "                                worry_check\n",
              "climate_change_future_gen_harm             \n",
              "A great deal                              1\n",
              "A moderate amount                         1\n",
              "Don’t know                                0\n",
              "Not at all                                0\n",
              "Only a little                             0"
            ]
          },
          "metadata": {},
          "execution_count": 207
        }
      ]
    },
    {
      "cell_type": "code",
      "metadata": {
        "colab": {
          "base_uri": "https://localhost:8080/"
        },
        "id": "m-aUzcUaQDaN",
        "outputId": "9835c64e-5f74-4638-bdd3-4c7d17d4e482"
      },
      "source": [
        "#one way ttest\n",
        "stats.ttest_ind(df[\"future_harm\"][df[\"oil_gas_yes\"] == 1], df[\"future_harm\"][df[\"oil_gas_yes\"] == 0])\n"
      ],
      "execution_count": 208,
      "outputs": [
        {
          "output_type": "execute_result",
          "data": {
            "text/plain": [
              "Ttest_indResult(statistic=1.492489622730618, pvalue=0.13599645646671538)"
            ]
          },
          "metadata": {},
          "execution_count": 208
        }
      ]
    },
    {
      "cell_type": "markdown",
      "metadata": {
        "id": "dbiyyV9hQqP1"
      },
      "source": [
        "Still no statistical significant correlation between oil/gas affiliation and perceived future harm. It could perhaps change if I were to restrict oil/gas affiliation to only those actually employed in the industry. But I'm not on a fishing trip, so we'll let it rest. "
      ]
    }
  ]
}